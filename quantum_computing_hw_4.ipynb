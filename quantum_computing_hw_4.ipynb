{
  "nbformat": 4,
  "nbformat_minor": 0,
  "metadata": {
    "colab": {
      "name": "quantum_computing_hw_4.ipynb",
      "provenance": [],
      "collapsed_sections": [],
      "authorship_tag": "ABX9TyNhIGS70H2dxefOf8KRDWaS",
      "include_colab_link": true
    },
    "kernelspec": {
      "name": "python3",
      "display_name": "Python 3"
    }
  },
  "cells": [
    {
      "cell_type": "markdown",
      "metadata": {
        "id": "view-in-github",
        "colab_type": "text"
      },
      "source": [
        "<a href=\"https://colab.research.google.com/github/schneider128k/quantum_computing_slides/blob/master/quantum_computing_hw_4.ipynb\" target=\"_parent\"><img src=\"https://colab.research.google.com/assets/colab-badge.svg\" alt=\"Open In Colab\"/></a>"
      ]
    },
    {
      "cell_type": "markdown",
      "metadata": {
        "id": "wf2A1lXe6JFT",
        "colab_type": "text"
      },
      "source": [
        "## HW 4"
      ]
    },
    {
      "cell_type": "markdown",
      "metadata": {
        "id": "hqRx6Utk6O2i",
        "colab_type": "text"
      },
      "source": [
        "### Problem 1 "
      ]
    },
    {
      "cell_type": "markdown",
      "metadata": {
        "id": "CAw2poAb6rci",
        "colab_type": "text"
      },
      "source": [
        "Implement Floyd's collision detection algorithm to find collisions.  It is OK if you look up the code for this on the internet.  Check out the wikipedia page [https://en.wikipedia.org/wiki/Cycle_detection](https://en.wikipedia.org/wiki/Cycle_detection).  "
      ]
    },
    {
      "cell_type": "markdown",
      "metadata": {
        "id": "YGvKfv8Q6_La",
        "colab_type": "text"
      },
      "source": [
        "### Problem 2"
      ]
    },
    {
      "cell_type": "code",
      "metadata": {
        "id": "I3930qUK7Z_i",
        "colab_type": "code",
        "colab": {}
      },
      "source": [
        "# implement the function find_order\n",
        "\n",
        "def find_order(a, N):\n",
        "    # using the method from problem 1 \n",
        "    # compute the order r of a module N\n",
        "\n",
        "    return r"
      ],
      "execution_count": 0,
      "outputs": []
    },
    {
      "cell_type": "markdown",
      "metadata": {
        "id": "b237qgr27rxx",
        "colab_type": "text"
      },
      "source": [
        "### Problem 3"
      ]
    },
    {
      "cell_type": "code",
      "metadata": {
        "id": "ZObTYzc-7toX",
        "colab_type": "code",
        "colab": {}
      },
      "source": [
        "# implement the function factor\n",
        "\n",
        "def factor(N):\n",
        "    # choose a uniformly at random in {2,...,N-1}\n",
        "    # compute the order r of a module N using the method from problem 2\n",
        "    # if r odd, chose different a\n",
        "    # if r even, compute f = gcd(a**(r/2 -1), N))\n",
        "    # if f is a trivial factor, choose different a\n",
        "\n",
        "    return f"
      ],
      "execution_count": 0,
      "outputs": []
    }
  ]
}