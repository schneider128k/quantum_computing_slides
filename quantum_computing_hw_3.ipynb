{
  "nbformat": 4,
  "nbformat_minor": 0,
  "metadata": {
    "colab": {
      "name": "quantum_computing_hw_3.ipynb",
      "provenance": [],
      "collapsed_sections": [],
      "authorship_tag": "ABX9TyO39fDU/AWE9WgCaYxDYKVR",
      "include_colab_link": true
    },
    "kernelspec": {
      "name": "python3",
      "display_name": "Python 3"
    }
  },
  "cells": [
    {
      "cell_type": "markdown",
      "metadata": {
        "id": "view-in-github",
        "colab_type": "text"
      },
      "source": [
        "<a href=\"https://colab.research.google.com/github/schneider128k/quantum_computing_slides/blob/master/quantum_computing_hw_3.ipynb\" target=\"_parent\"><img src=\"https://colab.research.google.com/assets/colab-badge.svg\" alt=\"Open In Colab\"/></a>"
      ]
    },
    {
      "cell_type": "markdown",
      "metadata": {
        "id": "wf2A1lXe6JFT",
        "colab_type": "text"
      },
      "source": [
        "## HW 3"
      ]
    },
    {
      "cell_type": "markdown",
      "metadata": {
        "id": "hqRx6Utk6O2i",
        "colab_type": "text"
      },
      "source": [
        "### Problem 1 "
      ]
    },
    {
      "cell_type": "markdown",
      "metadata": {
        "id": "86pEeMyJZTaB",
        "colab_type": "text"
      },
      "source": [
        "**Fourier matrix**"
      ]
    },
    {
      "cell_type": "markdown",
      "metadata": {
        "id": "-CJ51pId-O-s",
        "colab_type": "text"
      },
      "source": [
        "Let $\\omega=\\mathrm{exp}(2\\pi i/N)$ be the $N$th root of unity.  The Fourier matrix of size $N$ is the matrix $F_N=(q_{k,\\ell})\\in\\mathbb{C}^{N\\times N}$ whose entries are given by\n",
        "$$q_{k,\\ell}=\\frac{1}{\\sqrt{N}} \\omega^{k \\cdot \\ell}$$ for $k, \\ell \\in \\{0,\\ldots,N-1\\}$."
      ]
    },
    {
      "cell_type": "markdown",
      "metadata": {
        "id": "GvWI1jUeAY_6",
        "colab_type": "text"
      },
      "source": [
        "Using numpy, implement the function ```get_fourier_matrix``` that creates the Fourier matrix of size $N$.\n",
        "\n",
        "Compute the eigenvalues of eigenvectors of the Fourier matrix.  \n",
        "\n",
        "To check that your code is correct, you should verify the following properties:\n",
        "\n",
        "- the Fourier matrix is unitary \n",
        "- the fourth power of $F_N^4$ is equal to the identity matrix\n",
        "- its eigenvalues are $1, i, -1, -i$ (the multiplicities of these eigenvalues are given on the wikipedia page [discrete fourier transform](https://en.wikipedia.org/wiki/Discrete_Fourier_transform) in section *eigenvalues and eigenvectors*)"
      ]
    },
    {
      "cell_type": "markdown",
      "metadata": {
        "id": "8p8OpYseZmse",
        "colab_type": "text"
      },
      "source": [
        "**Cyclic shift matrix**"
      ]
    },
    {
      "cell_type": "markdown",
      "metadata": {
        "id": "EdU_Ai9JZ4tu",
        "colab_type": "text"
      },
      "source": [
        "The cyclic shift matrix is the matrix $P_N=(p_{k,\\ell}\\in\\mathbb{C}^{N\\times N}$ whose entries are given by\n",
        "\n",
        "$$ p_{k,\\ell} = 1 \\mbox{ if } \\ell = k + 1 \\pmod{N} $$\n",
        "\n",
        "$$ p_{k,\\ell} = 0 \\mbox{ if } \\ell \\neq k + 1 \\pmod{N} $$"
      ]
    },
    {
      "cell_type": "markdown",
      "metadata": {
        "id": "Pj_wzC70avuv",
        "colab_type": "text"
      },
      "source": [
        "Using numpy, implement the function ```get_cyclic_shift_matrix``` that create the cyclic shift matrix of size $N$.\n",
        "\n",
        "Compute the eigenvalues of $P_N$.\n",
        "\n",
        "To show that your code is correct, you should verify the following properties:\n",
        "\n",
        "- the cyclic shift matrix is unitary\n",
        "- the $N$th power of the cyclic shift matrix is the identity matrix\n",
        "- the eigenvalues of the cyclic shift matrix are $N$th roots of unity\n",
        "- the cyclic shift matrix is diagonalized by the Fourier matrix, that is, $F_N^\\dagger P_N F_N$ is diagonal."
      ]
    },
    {
      "cell_type": "markdown",
      "metadata": {
        "id": "nuAnEb1xCVfs",
        "colab_type": "text"
      },
      "source": [
        "### Problem 2"
      ]
    },
    {
      "cell_type": "markdown",
      "metadata": {
        "id": "H3bqptmVDKCQ",
        "colab_type": "text"
      },
      "source": [
        "Using Qiskit IBM Q Experience, implement the quantum phase estimation circuit with 3-bit precision.  \n",
        "\n",
        "This quantum circuit is explained on pages 110-113 (Inverse Fourier transform for 3 qubits) of the lecture slides.\n",
        "\n",
        "Write a function that create the state\n",
        "\n",
        "$$ \n",
        "\\frac{1}{\\sqrt{2}} ( |0\\rangle + e^{2\\pi i 2^2 \\varphi} |1\\rangle ) \\otimes \n",
        "\\frac{1}{\\sqrt{2}} ( |0\\rangle + e^{2\\pi i 2^1 \\varphi} |1\\rangle ) \\otimes \n",
        "\\frac{1}{\\sqrt{2}} ( |0\\rangle + e^{2\\pi i 2^0 \\varphi} |1\\rangle ) \n",
        "$$\n",
        "\n",
        "for arbitrary $\\varphi\\in [0,1)$. \n",
        "\n",
        "(This is the state that we would obtain by \n",
        "- preparing the three control bits in the $|+\\rangle$ state \n",
        "- applying the control power of $U^{2^2}, U^{2^1}, U^{2^0}$ gates\n",
        "\n",
        "assuming that the target qubit is in state $|\\psi\\rangle$ and $U|\\psi\\rangle=e^{2 \\pi i \\varphi} |\\psi\\rangle$.)\n",
        "\n",
        "You can preprare the initial state applying ```U1``` gates on qubits prepared $|+\\rangle$. See [Qiskit U1 gate documentation](https://qiskit.org/documentation/stubs/qiskit.extensions.U1Gate.html). \n",
        "\n",
        "The controlled $R_k^\\dagger$ gates occuring in the inverse Fourier transform circuit can be realized with the help of controlled ```U1``` gates.  "
      ]
    },
    {
      "cell_type": "code",
      "metadata": {
        "id": "cUH6Pq_BAWTg",
        "colab_type": "code",
        "colab": {}
      },
      "source": [
        ""
      ],
      "execution_count": 0,
      "outputs": []
    }
  ]
}