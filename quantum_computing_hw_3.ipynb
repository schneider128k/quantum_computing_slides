{
  "nbformat": 4,
  "nbformat_minor": 0,
  "metadata": {
    "colab": {
      "name": "quantum_computing_hw_3.ipynb",
      "provenance": [],
      "collapsed_sections": [],
      "authorship_tag": "ABX9TyMjzYcpFIWUuDuLOhM8bohD",
      "include_colab_link": true
    },
    "kernelspec": {
      "name": "python3",
      "display_name": "Python 3"
    }
  },
  "cells": [
    {
      "cell_type": "markdown",
      "metadata": {
        "id": "view-in-github",
        "colab_type": "text"
      },
      "source": [
        "<a href=\"https://colab.research.google.com/github/schneider128k/quantum_computing_slides/blob/master/quantum_computing_hw_3.ipynb\" target=\"_parent\"><img src=\"https://colab.research.google.com/assets/colab-badge.svg\" alt=\"Open In Colab\"/></a>"
      ]
    },
    {
      "cell_type": "markdown",
      "metadata": {
        "id": "wf2A1lXe6JFT",
        "colab_type": "text"
      },
      "source": [
        "## HW 3"
      ]
    },
    {
      "cell_type": "markdown",
      "metadata": {
        "id": "hqRx6Utk6O2i",
        "colab_type": "text"
      },
      "source": [
        "### Problem 1 "
      ]
    },
    {
      "cell_type": "markdown",
      "metadata": {
        "id": "-CJ51pId-O-s",
        "colab_type": "text"
      },
      "source": [
        "Let $\\omega=\\mathrm{exp}(2\\pi i/N)$ be the $N$th root of unity.  The Fourier matrix of size $N$ is the matrix $F_N=(q_{k,\\ell})\\in\\mathbb{C}^{N\\times N}$ whose entries are given by\n",
        "$$q_{k,\\ell}=\\frac{1}{\\sqrt{N}} \\omega^{k \\cdot \\ell}$$ for $k, \\ell \\in \\{0,\\ldots,N-1\\}$."
      ]
    },
    {
      "cell_type": "markdown",
      "metadata": {
        "id": "GvWI1jUeAY_6",
        "colab_type": "text"
      },
      "source": [
        "Using numpy, implement the function ```get_fourier_matrix``` that create the Fourier matrix of size $N$.\n",
        "\n",
        "Compute the eigenvalues of eigenvectors of the Fourier matrix.  \n",
        "\n",
        "To check that your code is correct, you should verify that the Fourier matrix is unitary and that its eigenvalues are $N$th roots of unity."
      ]
    },
    {
      "cell_type": "markdown",
      "metadata": {
        "id": "nuAnEb1xCVfs",
        "colab_type": "text"
      },
      "source": [
        "### Problem 2"
      ]
    },
    {
      "cell_type": "markdown",
      "metadata": {
        "id": "H3bqptmVDKCQ",
        "colab_type": "text"
      },
      "source": [
        "Using Qiskit IBM Q Experience, implement the quantum phase estimation circuit with 3-bit precision.  \n",
        "\n",
        "This quantum circuit is explained on pages 110-113 (Inverse Fourier transform for 3 qubits) of the lecture slides.\n",
        "\n",
        "You can preprare the initial state using ```u3``` gates. See [u3 gates](https://qiskit.org/documentation/tutorials/fundamentals/5_summary_of_quantum_operations.html?highlight=arbitrary%20single%20qubit%20gate#u-gates)\n",
        "\n",
        "The controlled $R_2^\\dagger$ gates are controlled ```u3``` gates.  See [controlled u3 gate](https://qiskit.org/documentation/tutorials/fundamentals/5_summary_of_quantum_operations.html?highlight=arbitrary%20single%20qubit%20gate#Controlled-u3-rotation)."
      ]
    },
    {
      "cell_type": "code",
      "metadata": {
        "id": "cUH6Pq_BAWTg",
        "colab_type": "code",
        "colab": {}
      },
      "source": [
        ""
      ],
      "execution_count": 0,
      "outputs": []
    }
  ]
}